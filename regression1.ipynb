{
 "cells": [
  {
   "cell_type": "code",
   "execution_count": 4,
   "id": "6bdc4bf2",
   "metadata": {},
   "outputs": [
    {
     "name": "stdout",
     "output_type": "stream",
     "text": [
      "lr.coef_:[0.39390555]\n",
      "lr.intercept_:-0.031804343026759746\n",
      "Training set score:0.67\n"
     ]
    }
   ],
   "source": [
    "import mglearn\n",
    "from sklearn.model_selection import train_test_split\n",
    "from sklearn.linear_model import LinearRegression\n",
    "\n",
    "X,y=mglearn.datasets.make_wave(n_samples=60)\n",
    "X_train,X_test,y_train,y_test=train_test_split(X,y,random_state=42)\n",
    "lr=LinearRegression().fit(X_train,y_train)\n",
    "print(\"lr.coef_:{}\".format(lr.coef_))\n",
    "print(\"lr.intercept_:{}\".format(lr.intercept_))\n",
    "print(\"Training set score:{:.2f}\".format(lr.score(X_train,y_train)))"
   ]
  }
 ],
 "metadata": {
  "kernelspec": {
   "display_name": "Python 3",
   "language": "python",
   "name": "python3"
  },
  "language_info": {
   "codemirror_mode": {
    "name": "ipython",
    "version": 3
   },
   "file_extension": ".py",
   "mimetype": "text/x-python",
   "name": "python",
   "nbconvert_exporter": "python",
   "pygments_lexer": "ipython3",
   "version": "3.9.13"
  }
 },
 "nbformat": 4,
 "nbformat_minor": 5
}
