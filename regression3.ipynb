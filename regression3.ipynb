{
 "cells": [
  {
   "cell_type": "code",
   "execution_count": 3,
   "id": "a4168c10",
   "metadata": {},
   "outputs": [],
   "source": [
    "import mglearn\n",
    "from sklearn.model_selection import train_test_split\n",
    "X,y=mglearn.datasets.load_extended_boston()\n",
    "X_train,X_test,y_train,y_test=train_test_split(X,y,random_state=42)"
   ]
  },
  {
   "cell_type": "code",
   "execution_count": 4,
   "id": "5dc24c12",
   "metadata": {},
   "outputs": [
    {
     "name": "stdout",
     "output_type": "stream",
     "text": [
      "Training set score: 0.870096977525992\n",
      "Test set score: 0.8145421818415552\n"
     ]
    }
   ],
   "source": [
    "from sklearn.linear_model import Ridge\n",
    "ridge=Ridge().fit(X_train,y_train)\n",
    "print(\"Training set score:\",format(ridge.score(X_train,y_train)))\n",
    "print(\"Test set score:\",format(ridge.score(X_test,y_test)))"
   ]
  },
  {
   "cell_type": "code",
   "execution_count": null,
   "id": "878e99bf",
   "metadata": {},
   "outputs": [
    {
     "data": {
      "text/plain": [
       "[<matplotlib.lines.Line2D at 0x1e7a2c40190>]"
      ]
     },
     "execution_count": 14,
     "metadata": {},
     "output_type": "execute_result"
    },
    {
     "data": {
      "image/png": "[encoded data removed]",
      "text/plain": [
       "<Figure size 640x480 with 1 Axes>"
      ]
     },
     "metadata": {},
     "output_type": "display_data"
    }
   ],
   "source": [
    "import matplotlib.pyplot as plt\n",
    "import numpy as np\n",
    "\n",
    "plt.plot(ridge.coef_,'s',label=\"Ridge alpha=1\")\n",
    "plt.plot(ridge.coef_,'v',label=\"Ridge alpha=10\")\n",
    "plt.plot(ridge.coef_,'^',label=\"Ridge alpha=0.1\")\n",
    "plt.legend()"
   ]
  },
  {
   "cell_type": "code",
   "execution_count": 10,
   "id": "44f166bd",
   "metadata": {},
   "outputs": [
    {
     "name": "stdout",
     "output_type": "stream",
     "text": [
      "Alpha: 0.001\n",
      "Training score: 0.943\n",
      "Test score: 0.806\n",
      "------------------------------\n",
      "Alpha: 0.010\n",
      "Training score: 0.936\n",
      "Test score: 0.814\n",
      "------------------------------\n",
      "Alpha: 0.100\n",
      "Training score: 0.917\n",
      "Test score: 0.825\n",
      "------------------------------\n",
      "Alpha: 1.000\n",
      "Training score: 0.870\n",
      "Test score: 0.815\n",
      "------------------------------\n",
      "Alpha: 10.000\n",
      "Training score: 0.767\n",
      "Test score: 0.728\n",
      "------------------------------\n",
      "Alpha: 100.000\n",
      "Training score: 0.562\n",
      "Test score: 0.547\n",
      "------------------------------\n"
     ]
    }
   ],
   "source": [
    "from sklearn.linear_model import Ridge\n",
    "\n",
    "alphas = [0.001, 0.01, 0.1, 1, 10, 100]\n",
    "for a in alphas:\n",
    "    ridge = Ridge(alpha=a)\n",
    "    ridge.fit(X_train, y_train)\n",
    "    print(f\"Alpha: {a:.3f}\")\n",
    "    print(f\"Training score: {ridge.score(X_train, y_train):.3f}\")\n",
    "    print(f\"Test score: {ridge.score(X_test, y_test):.3f}\")\n",
    "    print(\"-\" * 30)\n"
   ]
  },
  {
   "cell_type": "code",
   "execution_count": 6,
   "id": "c260ae68",
   "metadata": {},
   "outputs": [
    {
     "name": "stdout",
     "output_type": "stream",
     "text": [
      "Best alpha: 0.1\n",
      "Train score: 0.9174870139232204\n",
      "Test score: 0.824649187531677\n"
     ]
    }
   ],
   "source": [
    "from sklearn.linear_model import RidgeCV\n",
    "\n",
    "ridge_cv = RidgeCV(alphas=[0.001, 0.01, 0.1, 1, 10, 100])\n",
    "ridge_cv.fit(X_train, y_train)\n",
    "\n",
    "print(\"Best alpha:\", ridge_cv.alpha_)\n",
    "print(\"Train score:\", ridge_cv.score(X_train, y_train))\n",
    "print(\"Test score:\", ridge_cv.score(X_test, y_test))\n"
   ]
  },
  {
   "cell_type": "code",
   "execution_count": 8,
   "id": "94610067",
   "metadata": {},
   "outputs": [
    {
     "name": "stdout",
     "output_type": "stream",
     "text": [
      "Training set score: 0.7243959296895492\n",
      "Test set score: 0.6890078494902934\n"
     ]
    }
   ],
   "source": [
    "ridge2=Ridge(alpha=20).fit(X_train,y_train)\n",
    "print(\"Training set score:\",format(ridge2.score(X_train,y_train)))\n",
    "print(\"Test set score:\",format(ridge2.score(X_test,y_test)))"
   ]
  },
  {
   "cell_type": "code",
   "execution_count": 9,
   "id": "32ce41c4",
   "metadata": {},
   "outputs": [
    {
     "name": "stdout",
     "output_type": "stream",
     "text": [
      "Training set score: 0.5754400469966725\n",
      "Test set score: 0.5584497980031196\n"
     ]
    }
   ],
   "source": [
    "ridge3=Ridge(alpha=90).fit(X_train,y_train)\n",
    "print(\"Training set score:\",format(ridge3.score(X_train,y_train)))\n",
    "print(\"Test set score:\",format(ridge3.score(X_test,y_test)))"
   ]
  }
 ],
 "metadata": {
  "kernelspec": {
   "display_name": "Python 3",
   "language": "python",
   "name": "python3"
  },
  "language_info": {
   "codemirror_mode": {
    "name": "ipython",
    "version": 3
   },
   "file_extension": ".py",
   "mimetype": "text/x-python",
   "name": "python",
   "nbconvert_exporter": "python",
   "pygments_lexer": "ipython3",
   "version": "3.9.13"
  }
 },
 "nbformat": 4,
 "nbformat_minor": 5
}
