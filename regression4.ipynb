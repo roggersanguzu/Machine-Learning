{
 "cells": [
  {
   "cell_type": "code",
   "execution_count": 7,
   "id": "8b33f10d",
   "metadata": {},
   "outputs": [],
   "source": [
    "import mglearn\n",
    "from sklearn.model_selection import train_test_split\n",
    "X,y=mglearn.datasets.load_extended_boston()\n",
    "X_train,X_test,y_train,y_test=train_test_split(X,y,random_state=42)"
   ]
  },
  {
   "cell_type": "code",
   "execution_count": 9,
   "id": "1fdb3d6c",
   "metadata": {},
   "outputs": [
    {
     "name": "stdout",
     "output_type": "stream",
     "text": [
      "Training set score: 0.26783778369518485\n",
      "Test set score: 0.2599232118344591\n"
     ]
    }
   ],
   "source": [
    "from sklearn.linear_model import LinearRegression\n",
    "from sklearn.linear_model import Lasso\n",
    "\n",
    "lasso=Lasso().fit(X_train,y_train)\n",
    "print(\"Training set score:\",format(lasso.score(X_train,y_train)))\n",
    "print(\"Test set score:\",format(lasso.score(X_test,y_test)))"
   ]
  },
  {
   "cell_type": "code",
   "execution_count": 10,
   "id": "658860aa",
   "metadata": {},
   "outputs": [
    {
     "name": "stdout",
     "output_type": "stream",
     "text": [
      "Training set score for alpha 0.01: 0.89\n"
     ]
    },
    {
     "name": "stdout",
     "output_type": "stream",
     "text": [
      "Test set score for alpha 0.01: 0.80\n",
      "******************************\n",
      "Training set score for alpha 0.1: 0.75\n",
      "Test set score for alpha 0.1: 0.70\n",
      "******************************\n",
      "Training set score for alpha 1: 0.27\n",
      "Test set score for alpha 1: 0.26\n",
      "******************************\n",
      "Training set score for alpha 0.2: 0.72\n",
      "Test set score for alpha 0.2: 0.67\n",
      "******************************\n",
      "Training set score for alpha 0.3: 0.69\n",
      "Test set score for alpha 0.3: 0.65\n",
      "******************************\n",
      "Training set score for alpha 0.4: 0.65\n",
      "Test set score for alpha 0.4: 0.62\n",
      "******************************\n",
      "Training set score for alpha 10: 0.00\n",
      "Test set score for alpha 10: -0.03\n",
      "******************************\n",
      "Training set score for alpha 100: 0.00\n",
      "Test set score for alpha 100: -0.03\n",
      "******************************\n"
     ]
    }
   ],
   "source": [
    "alphas=[0.01,0.1,1,0.2,0.3,0.4,10,100]\n",
    "for i in alphas:\n",
    "      lasso2=Lasso(alpha=i ,max_iter=10000).fit(X_train,y_train)\n",
    "      print(\"Training set score for alpha {}: {:.2f}\".format(i,lasso2.score(X_train,y_train)))\n",
    "      print(\"Test set score for alpha {}: {:.2f}\".format(i,lasso2.score(X_test,y_test)))\n",
    "      print(\"*\"*30)"
   ]
  }
 ],
 "metadata": {
  "kernelspec": {
   "display_name": "Python 3",
   "language": "python",
   "name": "python3"
  },
  "language_info": {
   "codemirror_mode": {
    "name": "ipython",
    "version": 3
   },
   "file_extension": ".py",
   "mimetype": "text/x-python",
   "name": "python",
   "nbconvert_exporter": "python",
   "pygments_lexer": "ipython3",
   "version": "3.9.13"
  }
 },
 "nbformat": 4,
 "nbformat_minor": 5
}
